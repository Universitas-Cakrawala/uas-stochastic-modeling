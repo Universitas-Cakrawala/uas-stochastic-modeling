{
 "cells": [
  {
   "cell_type": "markdown",
   "id": "374a3d1a",
   "metadata": {},
   "source": [
    "# Tentang Dataset\n",
    "Pasar properti, seperti di Sydney dan Melbourne, menghadirkan peluang menarik bagi analis data untuk menganalisis dan memprediksi arah pergerakan harga properti. Prediksi harga properti menjadi semakin penting dan bermanfaat. Harga properti merupakan indikator yang baik untuk kondisi pasar secara keseluruhan dan kesehatan ekonomi suatu negara"
   ]
  },
  {
   "cell_type": "markdown",
   "id": "00ca698e",
   "metadata": {},
   "source": [
    "# Deskripsi Masalah\n",
    "Dataset berisi catatan penjualan properti dengan kolom utama seperti tanggal transaksi (`date`), harga jual (`price`), fitur fisik rumah (mis. `bedrooms`, `bathrooms`, `sqft_living`, `sqft_above`, `sqft_basement`, `floors`), informasi lokasi (`street`, `city`, `statezip`, `country`), serta atribut kondisi dan umur (`condition`, `yr_built`, `yr_renovated`). Tantangan yang tampak dari dataset ini meliputi:\n",
    "\n",
    "- Format dan kualitas data yang beragam: beberapa kolom alamat gabungan, potensi entri duplikat, dan nilai yang hilang atau tidak konsisten.\n",
    "- Distribusi target (`price`) kemungkinan sangat miring dan mengandung outlier (ada rumah dengan harga ekstrem).\n",
    "- Fitur waktu serta tahun bangun/renovasi memerlukan transformasi menjadi fitur umur atau waktu sejak renovasi.\n",
    "- Informasi lokasi tersedia sebagai teks sehingga perlu penanganan untuk ekstraksi fitur spasial atau agregasi berdasarkan area/kode pos.\n",
    "- Fitur struktural (luas, jumlah kamar, basement) mungkin saling berkorelasi — perlu deteksi multikolinearitas dan feature engineering.\n",
    "- Target adalah variabel kontinu sehingga ini merupakan masalah regresi; perlu strategi untuk outlier dan heteroskedastisitas.\n",
    "\n",
    "# Tujuan\n",
    "Hasil yang ingin dicapai adalah mengembangkan model Machine Learning menggunakan pendekatan Supervised Learning untuk memprediksi harga properti berdasarkan fitur-fitur yang relevan. Model ini akan membantu dalam mengidentifikasi tren harga properti dan memberikan wawasan yang berguna bagi pembeli, penjual, dan investor di pasar properti."
   ]
  }
 ],
 "metadata": {
  "kernelspec": {
   "display_name": "jupyter-env",
   "language": "python",
   "name": "python3"
  },
  "language_info": {
   "name": "python",
   "version": "3.12.11"
  }
 },
 "nbformat": 4,
 "nbformat_minor": 5
}
